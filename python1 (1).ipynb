{
 "cells": [
  {
   "cell_type": "markdown",
   "id": "5f18d90a-9fa5-49f4-a7c5-d4d033780114",
   "metadata": {},
   "source": [
    "question 1 answer= variable should contain letters,numbers and underscore.\n",
    "it should not contain any special characters like %,$,# etc.\n",
    "variable name should start with letter or _ variable should not start with number or specail character."
   ]
  },
  {
   "cell_type": "markdown",
   "id": "1879791e-f935-489a-9ac7-3c67e80a247e",
   "metadata": {},
   "source": [
    "question 2 answer= if we declare restricted keyword as variable it shows error.\n",
    "for example= and ,true etc."
   ]
  },
  {
   "cell_type": "markdown",
   "id": "b2cb8445-a236-46f4-b7d5-6338b385eb3b",
   "metadata": {},
   "source": [
    "question 3 answer= yes we can declare a string as variable.\n",
    "for example- name= pooja here \"name\" is variable."
   ]
  },
  {
   "cell_type": "markdown",
   "id": "bf4c09e4-27db-4251-a953-cc0b59fbeaac",
   "metadata": {},
   "source": [
    "yes we can use _ as varible.\n",
    "_name= pooja."
   ]
  },
  {
   "cell_type": "markdown",
   "id": "4103b68e-b9ee-4690-846b-fd13025c3f1c",
   "metadata": {},
   "source": [
    " question 4 answer=\n",
    "yes we can declare _ as variable. for example \n",
    "x =23 \n",
    "y=20\n",
    "_ = x+y\n",
    "print(_)\n"
   ]
  },
  {
   "cell_type": "markdown",
   "id": "a674afa7-a000-4e6a-94b7-082dca7bafe0",
   "metadata": {},
   "source": [
    "question 5 answer= yes variable in python are dynamic.\n",
    "for example.\n",
    "if a=2 and b=4  now a= a+b\n",
    "it will be a= 6\n",
    "we can reassign the values of a and b multiple times.\n",
    "\n"
   ]
  },
  {
   "cell_type": "markdown",
   "id": "89d973d3-f88c-4cf8-9c02-25dc40b63012",
   "metadata": {},
   "source": []
  },
  {
   "cell_type": "markdown",
   "id": "c8d17348-18c6-4c73-bc9f-b26b843d49ff",
   "metadata": {},
   "source": []
  },
  {
   "cell_type": "markdown",
   "id": "7b13420b-17b1-4fb2-80ce-affde5d06fa9",
   "metadata": {},
   "source": []
  },
  {
   "cell_type": "markdown",
   "id": "c01ad2f6-bfac-4131-a51d-3b5693643d48",
   "metadata": {},
   "source": []
  },
  {
   "cell_type": "code",
   "execution_count": null,
   "id": "0556ec3e-7762-4c1c-8a5e-bf8711649a82",
   "metadata": {},
   "outputs": [],
   "source": []
  },
  {
   "cell_type": "code",
   "execution_count": null,
   "id": "239cf9d7-a6ad-4b5c-974c-cc429aaca2f0",
   "metadata": {},
   "outputs": [],
   "source": []
  },
  {
   "cell_type": "code",
   "execution_count": null,
   "id": "60cdc494-ce32-4e9f-869c-92ab38688497",
   "metadata": {},
   "outputs": [],
   "source": []
  },
  {
   "cell_type": "code",
   "execution_count": null,
   "id": "cc01a8d2-1568-47f7-ab52-e1c11d630763",
   "metadata": {},
   "outputs": [],
   "source": []
  },
  {
   "cell_type": "code",
   "execution_count": null,
   "id": "6bb239ac-6843-40c6-a50f-7562f5f8d8ee",
   "metadata": {},
   "outputs": [],
   "source": []
  },
  {
   "cell_type": "code",
   "execution_count": null,
   "id": "5633bd85-877c-4dfe-b72e-4303264c0645",
   "metadata": {},
   "outputs": [],
   "source": []
  }
 ],
 "metadata": {
  "kernelspec": {
   "display_name": "Python 3 (ipykernel)",
   "language": "python",
   "name": "python3"
  },
  "language_info": {
   "codemirror_mode": {
    "name": "ipython",
    "version": 3
   },
   "file_extension": ".py",
   "mimetype": "text/x-python",
   "name": "python",
   "nbconvert_exporter": "python",
   "pygments_lexer": "ipython3",
   "version": "3.10.8"
  },
  "toc-autonumbering": true,
  "toc-showcode": true,
  "toc-showtags": true
 },
 "nbformat": 4,
 "nbformat_minor": 5
}
